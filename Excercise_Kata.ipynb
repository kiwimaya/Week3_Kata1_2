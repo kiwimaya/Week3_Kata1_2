{
 "cells": [
  {
   "cell_type": "code",
   "execution_count": 9,
   "metadata": {},
   "outputs": [
    {
     "name": "stdout",
     "output_type": "stream",
     "text": [
      "Available parking spot coordinates: (3, 3)\n"
     ]
    }
   ],
   "source": [
    "import random\n",
    "\n",
    "# Parking spots with their availability\n",
    "parking_spots = [\n",
    "    {\"coordinates\": (1, 1), \"available\": True},\n",
    "    {\"coordinates\": (2, 2), \"available\": False},\n",
    "    {\"coordinates\": (3, 3), \"available\": True},\n",
    "    {\"coordinates\": (4, 4), \"available\": True},\n",
    "    {\"coordinates\": (5, 5), \"available\": False},\n",
    "]\n",
    "\n",
    "def find_available_parking_spot():\n",
    "    available_spots = [spot for spot in parking_spots if spot[\"available\"]]\n",
    "    if not available_spots:\n",
    "        return None\n",
    "    \n",
    "    \n",
    "    chosen_spot = random.choice(available_spots)\n",
    "    return chosen_spot[\"coordinates\"]\n",
    "\n",
    "# Example usage\n",
    "coordinates = find_available_parking_spot()\n",
    "if coordinates:\n",
    "    print(f\"Available parking spot coordinates: {coordinates}\")\n",
    "else:\n",
    "    print(\"No available parking spots.\")\n"
   ]
  },
  {
   "cell_type": "code",
   "execution_count": null,
   "metadata": {},
   "outputs": [],
   "source": []
  },
  {
   "cell_type": "code",
   "execution_count": null,
   "metadata": {},
   "outputs": [],
   "source": []
  },
  {
   "cell_type": "code",
   "execution_count": null,
   "metadata": {},
   "outputs": [],
   "source": []
  }
 ],
 "metadata": {
  "kernelspec": {
   "display_name": "TheOne",
   "language": "python",
   "name": "theone"
  },
  "language_info": {
   "codemirror_mode": {
    "name": "ipython",
    "version": 3
   },
   "file_extension": ".py",
   "mimetype": "text/x-python",
   "name": "python",
   "nbconvert_exporter": "python",
   "pygments_lexer": "ipython3",
   "version": "3.9.7"
  },
  "orig_nbformat": 4
 },
 "nbformat": 4,
 "nbformat_minor": 2
}
