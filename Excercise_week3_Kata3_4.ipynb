{
 "cells": [
  {
   "cell_type": "code",
   "execution_count": 7,
   "metadata": {},
   "outputs": [
    {
     "name": "stdout",
     "output_type": "stream",
     "text": [
      "3\n"
     ]
    }
   ],
   "source": [
    "###Kata 3 - Count vowels in a given string\n",
    "def numberOfVowels(data):\n",
    "    vowels=['a','e','i','o','u']\n",
    "    count=0\n",
    "    for letter in data:\n",
    "        if letter in vowels:\n",
    "            count +=1\n",
    "    return count\n",
    "\n",
    "\n",
    "print(numberOfVowels(\"orange\"))"
   ]
  },
  {
   "cell_type": "code",
   "execution_count": 23,
   "metadata": {},
   "outputs": [
    {
     "name": "stdout",
     "output_type": "stream",
     "text": [
      "Jeremiah\n"
     ]
    }
   ],
   "source": [
    "###Kata 4 - Instructors that has the longest name\n",
    "instructors = [\"Samuel\", \"Jeremiah\", \"Ophilia\", \"Donald\"]\n",
    "    \n",
    "def instructorWithLongestName(instructors):\n",
    "    return max(instructors, key=len)\n",
    "\n",
    "    \n",
    "print(instructorWithLongestName(instructors))\n",
    "\n"
   ]
  },
  {
   "cell_type": "code",
   "execution_count": null,
   "metadata": {},
   "outputs": [],
   "source": []
  },
  {
   "cell_type": "code",
   "execution_count": null,
   "metadata": {},
   "outputs": [],
   "source": []
  },
  {
   "cell_type": "code",
   "execution_count": null,
   "metadata": {},
   "outputs": [],
   "source": []
  },
  {
   "cell_type": "code",
   "execution_count": 28,
   "metadata": {},
   "outputs": [
    {
     "ename": "SyntaxError",
     "evalue": "invalid syntax (1453373173.py, line 3)",
     "output_type": "error",
     "traceback": [
      "\u001b[1;36m  Cell \u001b[1;32mIn[28], line 3\u001b[1;36m\u001b[0m\n\u001b[1;33m    name = Extract name\u001b[0m\n\u001b[1;37m                   ^\u001b[0m\n\u001b[1;31mSyntaxError\u001b[0m\u001b[1;31m:\u001b[0m invalid syntax\n"
     ]
    }
   ],
   "source": [
    "instructors = []\n",
    "for instructor in instructors_dic:\n",
    "        name = Extract name\n",
    "        instructors.append(name)\n",
    "\n",
    "instructors_dic= ({\"name\": \"Samuel\", \"course\": \"iOS\"},{\"name\": \"Jeremiah\", \"course\": \"Data\"}, {\"name\": \"Ophilia\", \"course\": \"Web\"},{\"name\": \"Donald\", \"course\": \"Web\"})"
   ]
  },
  {
   "cell_type": "code",
   "execution_count": 25,
   "metadata": {},
   "outputs": [
    {
     "name": "stdout",
     "output_type": "stream",
     "text": [
      "Samuel\n",
      "Jeremiah\n",
      "Ophilia\n",
      "Donald\n"
     ]
    }
   ],
   "source": [
    "list= ({\"name\": \"Samuel\", \"course\": \"iOS\"},{\"name\": \"Jeremiah\", \"course\": \"Data\"}, {\"name\": \"Ophilia\", \"course\": \"Web\"},{\"name\": \"Donald\", \"course\": \"Web\"})\n",
    "\n",
    "for name in list:\n",
    "  print(name['name'])\n",
    "\n",
    "\n",
    "  "
   ]
  }
 ],
 "metadata": {
  "kernelspec": {
   "display_name": "TheOne",
   "language": "python",
   "name": "theone"
  },
  "language_info": {
   "codemirror_mode": {
    "name": "ipython",
    "version": 3
   },
   "file_extension": ".py",
   "mimetype": "text/x-python",
   "name": "python",
   "nbconvert_exporter": "python",
   "pygments_lexer": "ipython3",
   "version": "3.9.7"
  },
  "orig_nbformat": 4
 },
 "nbformat": 4,
 "nbformat_minor": 2
}
