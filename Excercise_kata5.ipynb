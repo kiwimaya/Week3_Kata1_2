{
 "cells": [
  {
   "cell_type": "code",
   "execution_count": 1,
   "metadata": {},
   "outputs": [
    {
     "name": "stdout",
     "output_type": "stream",
     "text": [
      "Hello%20World\n"
     ]
    }
   ],
   "source": [
    "def url_encode(input_str):\n",
    "    # Initialize an empty string to store the result\n",
    "    result = \"\"\n",
    "\n",
    "    # Iterate through each character in the input string\n",
    "    for char in input_str:\n",
    "        # If the character is a whitespace, add \"%20\" to the result\n",
    "        if char == ' ':\n",
    "            result += \"%20\"\n",
    "        else:\n",
    "            # Otherwise, add the character as it is to the result\n",
    "            result += char\n",
    "\n",
    "    \n",
    "    return result\n",
    "\n",
    "# Example:\n",
    "input_str = \"Hello World\"\n",
    "output_str = url_encode(input_str)\n",
    "print(output_str)  # Output: \"Hello%20World\"\n"
   ]
  }
 ],
 "metadata": {
  "kernelspec": {
   "display_name": "TheOne",
   "language": "python",
   "name": "theone"
  },
  "language_info": {
   "codemirror_mode": {
    "name": "ipython",
    "version": 3
   },
   "file_extension": ".py",
   "mimetype": "text/x-python",
   "name": "python",
   "nbconvert_exporter": "python",
   "pygments_lexer": "ipython3",
   "version": "3.9.7"
  },
  "orig_nbformat": 4
 },
 "nbformat": 4,
 "nbformat_minor": 2
}
