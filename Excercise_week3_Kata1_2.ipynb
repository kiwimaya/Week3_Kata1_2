{
 "cells": [
  {
   "cell_type": "code",
   "execution_count": 36,
   "metadata": {},
   "outputs": [
    {
     "name": "stdout",
     "output_type": "stream",
     "text": [
      "126\n",
      "11\n"
     ]
    }
   ],
   "source": [
    "\n",
    "##Kata1\n",
    "def sumLargestNumbers(arr):\n",
    "    return sum(sorted(arr)[-2:])\n",
    "\n",
    "x=[10,4,34,6,92,2]\n",
    "y=[1,10]\n",
    "print(sumLargestNumbers(x))\n",
    "print(sumLargestNumbers(y))\n"
   ]
  },
  {
   "cell_type": "code",
   "execution_count": 8,
   "metadata": {},
   "outputs": [
    {
     "name": "stdout",
     "output_type": "stream",
     "text": [
      "12\n",
      "9\n"
     ]
    }
   ],
   "source": [
    "##Kata2\n",
    "l = [1,2,3,4,5,6]\n",
    "def conditionalSum(value, condition):\n",
    "    s = 0\n",
    "    if condition == \"even\":\n",
    "        for i in value:\n",
    "            if i % 2 == 0:\n",
    "                s += i\n",
    "    elif condition == \"odd\":\n",
    "        for i in value:\n",
    "            if i % 2 !=0:\n",
    "                s += i\n",
    "    return s\n",
    "\n",
    "print(conditionalSum(l,\"even\"))\n",
    "print(conditionalSum(l,\"odd\"))"
   ]
  },
  {
   "cell_type": "code",
   "execution_count": 23,
   "metadata": {},
   "outputs": [
    {
     "name": "stdout",
     "output_type": "stream",
     "text": [
      "4\n"
     ]
    }
   ],
   "source": [
    "\n",
    "\n",
    "string_of_letters=['a', 'b', 'e', 'i', 'i']\n",
    "number_of_vowels= string_of_letters.count('a') + string_of_letters.count('e') + string_of_letters.count('i')\n",
    "print(number_of_vowels)\n",
    "    \n",
    "    \n",
    "\n"
   ]
  },
  {
   "cell_type": "code",
   "execution_count": 39,
   "metadata": {},
   "outputs": [
    {
     "name": "stdout",
     "output_type": "stream",
     "text": [
      "None\n"
     ]
    }
   ],
   "source": [
    "def numberOfVowels(data):\n",
    "    vowels = [\"a\", \"e\", \"i\", \"o\", \"u\"]\n",
    "    count = 0\n",
    "    for letter in data:\n",
    "        if letter in vowels:\n",
    "            count += 1\n",
    "    return\n",
    "\n",
    "\n",
    "print(numberOfVowels(\"orange\"))\n"
   ]
  }
 ],
 "metadata": {
  "kernelspec": {
   "display_name": "TheOne",
   "language": "python",
   "name": "theone"
  },
  "language_info": {
   "codemirror_mode": {
    "name": "ipython",
    "version": 3
   },
   "file_extension": ".py",
   "mimetype": "text/x-python",
   "name": "python",
   "nbconvert_exporter": "python",
   "pygments_lexer": "ipython3",
   "version": "3.9.7"
  },
  "orig_nbformat": 4
 },
 "nbformat": 4,
 "nbformat_minor": 2
}
